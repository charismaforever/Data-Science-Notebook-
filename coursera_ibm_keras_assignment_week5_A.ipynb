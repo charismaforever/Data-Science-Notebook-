{
  "nbformat": 4,
  "nbformat_minor": 0,
  "metadata": {
    "kernelspec": {
      "name": "python3",
      "display_name": "Python 3.6",
      "language": "python"
    },
    "language_info": {
      "name": "python",
      "version": "3.6.9",
      "mimetype": "text/x-python",
      "codemirror_mode": {
        "name": "ipython",
        "version": 3
      },
      "pygments_lexer": "ipython3",
      "nbconvert_exporter": "python",
      "file_extension": ".py"
    },
    "colab": {
      "name": "coursera_ibm_keras_assignment_week5_A.ipynb",
      "provenance": [],
      "collapsed_sections": []
    }
  },
  "cells": [
    {
      "cell_type": "markdown",
      "metadata": {
        "id": "49_W8muAEC_Z"
      },
      "source": [
        "# Final assignment - Introduction to Deep Learning & Neural Networks with Keras"
      ]
    },
    {
      "cell_type": "markdown",
      "metadata": {
        "id": "TvKmSlrHEC_a"
      },
      "source": [
        "###Imports"
      ]
    },
    {
      "cell_type": "code",
      "metadata": {
        "id": "CPpwz5kjEC_a"
      },
      "source": [
        "import pandas as pd\n",
        "import numpy as np"
      ],
      "execution_count": 1,
      "outputs": []
    },
    {
      "cell_type": "markdown",
      "metadata": {
        "id": "QWB86LivEC_d"
      },
      "source": [
        "### read data from csv file"
      ]
    },
    {
      "cell_type": "code",
      "metadata": {
        "colab": {
          "base_uri": "https://localhost:8080/",
          "height": 204
        },
        "id": "Yx9e0GOTEC_d",
        "outputId": "47bbd1a8-b461-4039-c4c1-e15c5b5edbf9"
      },
      "source": [
        "concrete_data = pd.read_csv('https://cocl.us/concrete_data')\n",
        "concrete_data.head()"
      ],
      "execution_count": 2,
      "outputs": [
        {
          "output_type": "execute_result",
          "data": {
            "text/html": [
              "<div>\n",
              "<style scoped>\n",
              "    .dataframe tbody tr th:only-of-type {\n",
              "        vertical-align: middle;\n",
              "    }\n",
              "\n",
              "    .dataframe tbody tr th {\n",
              "        vertical-align: top;\n",
              "    }\n",
              "\n",
              "    .dataframe thead th {\n",
              "        text-align: right;\n",
              "    }\n",
              "</style>\n",
              "<table border=\"1\" class=\"dataframe\">\n",
              "  <thead>\n",
              "    <tr style=\"text-align: right;\">\n",
              "      <th></th>\n",
              "      <th>Cement</th>\n",
              "      <th>Blast Furnace Slag</th>\n",
              "      <th>Fly Ash</th>\n",
              "      <th>Water</th>\n",
              "      <th>Superplasticizer</th>\n",
              "      <th>Coarse Aggregate</th>\n",
              "      <th>Fine Aggregate</th>\n",
              "      <th>Age</th>\n",
              "      <th>Strength</th>\n",
              "    </tr>\n",
              "  </thead>\n",
              "  <tbody>\n",
              "    <tr>\n",
              "      <th>0</th>\n",
              "      <td>540.0</td>\n",
              "      <td>0.0</td>\n",
              "      <td>0.0</td>\n",
              "      <td>162.0</td>\n",
              "      <td>2.5</td>\n",
              "      <td>1040.0</td>\n",
              "      <td>676.0</td>\n",
              "      <td>28</td>\n",
              "      <td>79.99</td>\n",
              "    </tr>\n",
              "    <tr>\n",
              "      <th>1</th>\n",
              "      <td>540.0</td>\n",
              "      <td>0.0</td>\n",
              "      <td>0.0</td>\n",
              "      <td>162.0</td>\n",
              "      <td>2.5</td>\n",
              "      <td>1055.0</td>\n",
              "      <td>676.0</td>\n",
              "      <td>28</td>\n",
              "      <td>61.89</td>\n",
              "    </tr>\n",
              "    <tr>\n",
              "      <th>2</th>\n",
              "      <td>332.5</td>\n",
              "      <td>142.5</td>\n",
              "      <td>0.0</td>\n",
              "      <td>228.0</td>\n",
              "      <td>0.0</td>\n",
              "      <td>932.0</td>\n",
              "      <td>594.0</td>\n",
              "      <td>270</td>\n",
              "      <td>40.27</td>\n",
              "    </tr>\n",
              "    <tr>\n",
              "      <th>3</th>\n",
              "      <td>332.5</td>\n",
              "      <td>142.5</td>\n",
              "      <td>0.0</td>\n",
              "      <td>228.0</td>\n",
              "      <td>0.0</td>\n",
              "      <td>932.0</td>\n",
              "      <td>594.0</td>\n",
              "      <td>365</td>\n",
              "      <td>41.05</td>\n",
              "    </tr>\n",
              "    <tr>\n",
              "      <th>4</th>\n",
              "      <td>198.6</td>\n",
              "      <td>132.4</td>\n",
              "      <td>0.0</td>\n",
              "      <td>192.0</td>\n",
              "      <td>0.0</td>\n",
              "      <td>978.4</td>\n",
              "      <td>825.5</td>\n",
              "      <td>360</td>\n",
              "      <td>44.30</td>\n",
              "    </tr>\n",
              "  </tbody>\n",
              "</table>\n",
              "</div>"
            ],
            "text/plain": [
              "   Cement  Blast Furnace Slag  Fly Ash  ...  Fine Aggregate  Age  Strength\n",
              "0   540.0                 0.0      0.0  ...           676.0   28     79.99\n",
              "1   540.0                 0.0      0.0  ...           676.0   28     61.89\n",
              "2   332.5               142.5      0.0  ...           594.0  270     40.27\n",
              "3   332.5               142.5      0.0  ...           594.0  365     41.05\n",
              "4   198.6               132.4      0.0  ...           825.5  360     44.30\n",
              "\n",
              "[5 rows x 9 columns]"
            ]
          },
          "metadata": {
            "tags": []
          },
          "execution_count": 2
        }
      ]
    },
    {
      "cell_type": "code",
      "metadata": {
        "colab": {
          "base_uri": "https://localhost:8080/"
        },
        "id": "W6mP2bBFEC_e",
        "outputId": "b8ecf3a0-31e2-45e0-8922-7bf07fc2b3ef"
      },
      "source": [
        "concrete_data.shape"
      ],
      "execution_count": 3,
      "outputs": [
        {
          "output_type": "execute_result",
          "data": {
            "text/plain": [
              "(1030, 9)"
            ]
          },
          "metadata": {
            "tags": []
          },
          "execution_count": 3
        }
      ]
    },
    {
      "cell_type": "code",
      "metadata": {
        "colab": {
          "base_uri": "https://localhost:8080/",
          "height": 297
        },
        "id": "NnZMAofJEC_e",
        "outputId": "108c7e69-7e44-4f7e-8a7b-4b4ae3a2d1b1"
      },
      "source": [
        "concrete_data.describe()"
      ],
      "execution_count": 4,
      "outputs": [
        {
          "output_type": "execute_result",
          "data": {
            "text/html": [
              "<div>\n",
              "<style scoped>\n",
              "    .dataframe tbody tr th:only-of-type {\n",
              "        vertical-align: middle;\n",
              "    }\n",
              "\n",
              "    .dataframe tbody tr th {\n",
              "        vertical-align: top;\n",
              "    }\n",
              "\n",
              "    .dataframe thead th {\n",
              "        text-align: right;\n",
              "    }\n",
              "</style>\n",
              "<table border=\"1\" class=\"dataframe\">\n",
              "  <thead>\n",
              "    <tr style=\"text-align: right;\">\n",
              "      <th></th>\n",
              "      <th>Cement</th>\n",
              "      <th>Blast Furnace Slag</th>\n",
              "      <th>Fly Ash</th>\n",
              "      <th>Water</th>\n",
              "      <th>Superplasticizer</th>\n",
              "      <th>Coarse Aggregate</th>\n",
              "      <th>Fine Aggregate</th>\n",
              "      <th>Age</th>\n",
              "      <th>Strength</th>\n",
              "    </tr>\n",
              "  </thead>\n",
              "  <tbody>\n",
              "    <tr>\n",
              "      <th>count</th>\n",
              "      <td>1030.000000</td>\n",
              "      <td>1030.000000</td>\n",
              "      <td>1030.000000</td>\n",
              "      <td>1030.000000</td>\n",
              "      <td>1030.000000</td>\n",
              "      <td>1030.000000</td>\n",
              "      <td>1030.000000</td>\n",
              "      <td>1030.000000</td>\n",
              "      <td>1030.000000</td>\n",
              "    </tr>\n",
              "    <tr>\n",
              "      <th>mean</th>\n",
              "      <td>281.167864</td>\n",
              "      <td>73.895825</td>\n",
              "      <td>54.188350</td>\n",
              "      <td>181.567282</td>\n",
              "      <td>6.204660</td>\n",
              "      <td>972.918932</td>\n",
              "      <td>773.580485</td>\n",
              "      <td>45.662136</td>\n",
              "      <td>35.817961</td>\n",
              "    </tr>\n",
              "    <tr>\n",
              "      <th>std</th>\n",
              "      <td>104.506364</td>\n",
              "      <td>86.279342</td>\n",
              "      <td>63.997004</td>\n",
              "      <td>21.354219</td>\n",
              "      <td>5.973841</td>\n",
              "      <td>77.753954</td>\n",
              "      <td>80.175980</td>\n",
              "      <td>63.169912</td>\n",
              "      <td>16.705742</td>\n",
              "    </tr>\n",
              "    <tr>\n",
              "      <th>min</th>\n",
              "      <td>102.000000</td>\n",
              "      <td>0.000000</td>\n",
              "      <td>0.000000</td>\n",
              "      <td>121.800000</td>\n",
              "      <td>0.000000</td>\n",
              "      <td>801.000000</td>\n",
              "      <td>594.000000</td>\n",
              "      <td>1.000000</td>\n",
              "      <td>2.330000</td>\n",
              "    </tr>\n",
              "    <tr>\n",
              "      <th>25%</th>\n",
              "      <td>192.375000</td>\n",
              "      <td>0.000000</td>\n",
              "      <td>0.000000</td>\n",
              "      <td>164.900000</td>\n",
              "      <td>0.000000</td>\n",
              "      <td>932.000000</td>\n",
              "      <td>730.950000</td>\n",
              "      <td>7.000000</td>\n",
              "      <td>23.710000</td>\n",
              "    </tr>\n",
              "    <tr>\n",
              "      <th>50%</th>\n",
              "      <td>272.900000</td>\n",
              "      <td>22.000000</td>\n",
              "      <td>0.000000</td>\n",
              "      <td>185.000000</td>\n",
              "      <td>6.400000</td>\n",
              "      <td>968.000000</td>\n",
              "      <td>779.500000</td>\n",
              "      <td>28.000000</td>\n",
              "      <td>34.445000</td>\n",
              "    </tr>\n",
              "    <tr>\n",
              "      <th>75%</th>\n",
              "      <td>350.000000</td>\n",
              "      <td>142.950000</td>\n",
              "      <td>118.300000</td>\n",
              "      <td>192.000000</td>\n",
              "      <td>10.200000</td>\n",
              "      <td>1029.400000</td>\n",
              "      <td>824.000000</td>\n",
              "      <td>56.000000</td>\n",
              "      <td>46.135000</td>\n",
              "    </tr>\n",
              "    <tr>\n",
              "      <th>max</th>\n",
              "      <td>540.000000</td>\n",
              "      <td>359.400000</td>\n",
              "      <td>200.100000</td>\n",
              "      <td>247.000000</td>\n",
              "      <td>32.200000</td>\n",
              "      <td>1145.000000</td>\n",
              "      <td>992.600000</td>\n",
              "      <td>365.000000</td>\n",
              "      <td>82.600000</td>\n",
              "    </tr>\n",
              "  </tbody>\n",
              "</table>\n",
              "</div>"
            ],
            "text/plain": [
              "            Cement  Blast Furnace Slag  ...          Age     Strength\n",
              "count  1030.000000         1030.000000  ...  1030.000000  1030.000000\n",
              "mean    281.167864           73.895825  ...    45.662136    35.817961\n",
              "std     104.506364           86.279342  ...    63.169912    16.705742\n",
              "min     102.000000            0.000000  ...     1.000000     2.330000\n",
              "25%     192.375000            0.000000  ...     7.000000    23.710000\n",
              "50%     272.900000           22.000000  ...    28.000000    34.445000\n",
              "75%     350.000000          142.950000  ...    56.000000    46.135000\n",
              "max     540.000000          359.400000  ...   365.000000    82.600000\n",
              "\n",
              "[8 rows x 9 columns]"
            ]
          },
          "metadata": {
            "tags": []
          },
          "execution_count": 4
        }
      ]
    },
    {
      "cell_type": "markdown",
      "metadata": {
        "id": "bmZaGpXSEC_e"
      },
      "source": [
        "### data processing"
      ]
    },
    {
      "cell_type": "code",
      "metadata": {
        "id": "_TgTcBvQEC_f"
      },
      "source": [
        "columns = concrete_data.columns\n",
        "predictors = concrete_data[columns[columns != 'Strength']] # all columns except Strength\n",
        "target = concrete_data['Strength'] # Strength column"
      ],
      "execution_count": 5,
      "outputs": []
    },
    {
      "cell_type": "code",
      "metadata": {
        "colab": {
          "base_uri": "https://localhost:8080/",
          "height": 204
        },
        "id": "xHm_lg24EC_f",
        "outputId": "66d4778c-54a2-4606-ad40-9e31391e3c72"
      },
      "source": [
        "predictors.head()"
      ],
      "execution_count": 6,
      "outputs": [
        {
          "output_type": "execute_result",
          "data": {
            "text/html": [
              "<div>\n",
              "<style scoped>\n",
              "    .dataframe tbody tr th:only-of-type {\n",
              "        vertical-align: middle;\n",
              "    }\n",
              "\n",
              "    .dataframe tbody tr th {\n",
              "        vertical-align: top;\n",
              "    }\n",
              "\n",
              "    .dataframe thead th {\n",
              "        text-align: right;\n",
              "    }\n",
              "</style>\n",
              "<table border=\"1\" class=\"dataframe\">\n",
              "  <thead>\n",
              "    <tr style=\"text-align: right;\">\n",
              "      <th></th>\n",
              "      <th>Cement</th>\n",
              "      <th>Blast Furnace Slag</th>\n",
              "      <th>Fly Ash</th>\n",
              "      <th>Water</th>\n",
              "      <th>Superplasticizer</th>\n",
              "      <th>Coarse Aggregate</th>\n",
              "      <th>Fine Aggregate</th>\n",
              "      <th>Age</th>\n",
              "    </tr>\n",
              "  </thead>\n",
              "  <tbody>\n",
              "    <tr>\n",
              "      <th>0</th>\n",
              "      <td>540.0</td>\n",
              "      <td>0.0</td>\n",
              "      <td>0.0</td>\n",
              "      <td>162.0</td>\n",
              "      <td>2.5</td>\n",
              "      <td>1040.0</td>\n",
              "      <td>676.0</td>\n",
              "      <td>28</td>\n",
              "    </tr>\n",
              "    <tr>\n",
              "      <th>1</th>\n",
              "      <td>540.0</td>\n",
              "      <td>0.0</td>\n",
              "      <td>0.0</td>\n",
              "      <td>162.0</td>\n",
              "      <td>2.5</td>\n",
              "      <td>1055.0</td>\n",
              "      <td>676.0</td>\n",
              "      <td>28</td>\n",
              "    </tr>\n",
              "    <tr>\n",
              "      <th>2</th>\n",
              "      <td>332.5</td>\n",
              "      <td>142.5</td>\n",
              "      <td>0.0</td>\n",
              "      <td>228.0</td>\n",
              "      <td>0.0</td>\n",
              "      <td>932.0</td>\n",
              "      <td>594.0</td>\n",
              "      <td>270</td>\n",
              "    </tr>\n",
              "    <tr>\n",
              "      <th>3</th>\n",
              "      <td>332.5</td>\n",
              "      <td>142.5</td>\n",
              "      <td>0.0</td>\n",
              "      <td>228.0</td>\n",
              "      <td>0.0</td>\n",
              "      <td>932.0</td>\n",
              "      <td>594.0</td>\n",
              "      <td>365</td>\n",
              "    </tr>\n",
              "    <tr>\n",
              "      <th>4</th>\n",
              "      <td>198.6</td>\n",
              "      <td>132.4</td>\n",
              "      <td>0.0</td>\n",
              "      <td>192.0</td>\n",
              "      <td>0.0</td>\n",
              "      <td>978.4</td>\n",
              "      <td>825.5</td>\n",
              "      <td>360</td>\n",
              "    </tr>\n",
              "  </tbody>\n",
              "</table>\n",
              "</div>"
            ],
            "text/plain": [
              "   Cement  Blast Furnace Slag  Fly Ash  ...  Coarse Aggregate  Fine Aggregate  Age\n",
              "0   540.0                 0.0      0.0  ...            1040.0           676.0   28\n",
              "1   540.0                 0.0      0.0  ...            1055.0           676.0   28\n",
              "2   332.5               142.5      0.0  ...             932.0           594.0  270\n",
              "3   332.5               142.5      0.0  ...             932.0           594.0  365\n",
              "4   198.6               132.4      0.0  ...             978.4           825.5  360\n",
              "\n",
              "[5 rows x 8 columns]"
            ]
          },
          "metadata": {
            "tags": []
          },
          "execution_count": 6
        }
      ]
    },
    {
      "cell_type": "code",
      "metadata": {
        "colab": {
          "base_uri": "https://localhost:8080/"
        },
        "id": "L7ZneMe_EC_f",
        "outputId": "03ed9805-b8f9-4855-bb8b-c6472b0b6edb"
      },
      "source": [
        "target.head()"
      ],
      "execution_count": 7,
      "outputs": [
        {
          "output_type": "execute_result",
          "data": {
            "text/plain": [
              "0    79.99\n",
              "1    61.89\n",
              "2    40.27\n",
              "3    41.05\n",
              "4    44.30\n",
              "Name: Strength, dtype: float64"
            ]
          },
          "metadata": {
            "tags": []
          },
          "execution_count": 7
        }
      ]
    },
    {
      "cell_type": "code",
      "metadata": {
        "colab": {
          "base_uri": "https://localhost:8080/"
        },
        "id": "cRUytPPUEC_f",
        "outputId": "1bed2b7f-1113-4511-ee81-0655a5cda3a5"
      },
      "source": [
        "n_cols = predictors.shape[1] # number of predictors\n",
        "n_cols"
      ],
      "execution_count": 8,
      "outputs": [
        {
          "output_type": "execute_result",
          "data": {
            "text/plain": [
              "8"
            ]
          },
          "metadata": {
            "tags": []
          },
          "execution_count": 8
        }
      ]
    },
    {
      "cell_type": "markdown",
      "metadata": {
        "id": "P-MmahoYEC_f"
      },
      "source": [
        "### import Keras packages"
      ]
    },
    {
      "cell_type": "code",
      "metadata": {
        "id": "n2D6xDndEC_f"
      },
      "source": [
        "import keras\n",
        "from keras.models import Sequential\n",
        "from keras.layers import Dense"
      ],
      "execution_count": 9,
      "outputs": []
    },
    {
      "cell_type": "code",
      "metadata": {
        "id": "iNMIKX_NEC_f"
      },
      "source": [
        "# define regression model\n",
        "def get_model():\n",
        "    # create model\n",
        "    model = Sequential()\n",
        "    model.add(Dense(10, activation='relu', input_shape=(n_cols,)))\n",
        "    model.add(Dense(1))\n",
        "    \n",
        "    # compile model\n",
        "    model.compile(optimizer='adam', loss='mean_squared_error')\n",
        "    return model"
      ],
      "execution_count": 10,
      "outputs": []
    },
    {
      "cell_type": "code",
      "metadata": {
        "id": "JVxid8IfEC_f"
      },
      "source": [
        "from sklearn.model_selection import train_test_split"
      ],
      "execution_count": 11,
      "outputs": []
    },
    {
      "cell_type": "code",
      "metadata": {
        "id": "PMIO0fuwEC_f"
      },
      "source": [
        "X_train, X_test, y_train, y_test = train_test_split(predictors, target, test_size=0.3, random_state=42)"
      ],
      "execution_count": 12,
      "outputs": []
    },
    {
      "cell_type": "markdown",
      "metadata": {
        "id": "_ZiHwEe9EC_f"
      },
      "source": [
        "### train and test"
      ]
    },
    {
      "cell_type": "code",
      "metadata": {
        "id": "Atm6XyiBEC_f"
      },
      "source": [
        "# build the model\n",
        "model = get_model()"
      ],
      "execution_count": 13,
      "outputs": []
    },
    {
      "cell_type": "code",
      "metadata": {
        "colab": {
          "base_uri": "https://localhost:8080/"
        },
        "id": "824LAJG7EC_f",
        "outputId": "cb8cbf35-5654-4697-fd88-fbaa5e011b86"
      },
      "source": [
        "# fit the model\n",
        "n_epochs = 50\n",
        "model.fit(X_train, y_train, epochs=n_epochs, verbose=1)"
      ],
      "execution_count": 14,
      "outputs": [
        {
          "output_type": "stream",
          "text": [
            "Epoch 1/50\n",
            "23/23 [==============================] - 0s 1ms/step - loss: 3625.4871\n",
            "Epoch 2/50\n",
            "23/23 [==============================] - 0s 1ms/step - loss: 1986.9233\n",
            "Epoch 3/50\n",
            "23/23 [==============================] - 0s 1ms/step - loss: 1599.6575\n",
            "Epoch 4/50\n",
            "23/23 [==============================] - 0s 1ms/step - loss: 1257.3658\n",
            "Epoch 5/50\n",
            "23/23 [==============================] - 0s 1ms/step - loss: 1084.6486\n",
            "Epoch 6/50\n",
            "23/23 [==============================] - 0s 1ms/step - loss: 965.2149\n",
            "Epoch 7/50\n",
            "23/23 [==============================] - 0s 1ms/step - loss: 870.7385\n",
            "Epoch 8/50\n",
            "23/23 [==============================] - 0s 1ms/step - loss: 801.9587\n",
            "Epoch 9/50\n",
            "23/23 [==============================] - 0s 2ms/step - loss: 746.6544\n",
            "Epoch 10/50\n",
            "23/23 [==============================] - 0s 1ms/step - loss: 696.0148\n",
            "Epoch 11/50\n",
            "23/23 [==============================] - 0s 1ms/step - loss: 652.7407\n",
            "Epoch 12/50\n",
            "23/23 [==============================] - 0s 996us/step - loss: 619.0485\n",
            "Epoch 13/50\n",
            "23/23 [==============================] - 0s 1ms/step - loss: 583.2616\n",
            "Epoch 14/50\n",
            "23/23 [==============================] - 0s 1ms/step - loss: 555.1333\n",
            "Epoch 15/50\n",
            "23/23 [==============================] - 0s 1ms/step - loss: 525.4106\n",
            "Epoch 16/50\n",
            "23/23 [==============================] - 0s 1ms/step - loss: 500.3931\n",
            "Epoch 17/50\n",
            "23/23 [==============================] - 0s 1ms/step - loss: 475.7201\n",
            "Epoch 18/50\n",
            "23/23 [==============================] - 0s 1ms/step - loss: 453.4468\n",
            "Epoch 19/50\n",
            "23/23 [==============================] - 0s 1ms/step - loss: 433.0815\n",
            "Epoch 20/50\n",
            "23/23 [==============================] - 0s 1ms/step - loss: 410.7870\n",
            "Epoch 21/50\n",
            "23/23 [==============================] - 0s 1ms/step - loss: 392.1055\n",
            "Epoch 22/50\n",
            "23/23 [==============================] - 0s 1ms/step - loss: 376.3387\n",
            "Epoch 23/50\n",
            "23/23 [==============================] - 0s 1ms/step - loss: 362.2939\n",
            "Epoch 24/50\n",
            "23/23 [==============================] - 0s 1ms/step - loss: 342.9364\n",
            "Epoch 25/50\n",
            "23/23 [==============================] - 0s 1ms/step - loss: 325.7489\n",
            "Epoch 26/50\n",
            "23/23 [==============================] - 0s 1ms/step - loss: 311.7350\n",
            "Epoch 27/50\n",
            "23/23 [==============================] - 0s 2ms/step - loss: 298.8704\n",
            "Epoch 28/50\n",
            "23/23 [==============================] - 0s 1ms/step - loss: 286.5902\n",
            "Epoch 29/50\n",
            "23/23 [==============================] - 0s 1ms/step - loss: 273.1302\n",
            "Epoch 30/50\n",
            "23/23 [==============================] - 0s 1ms/step - loss: 262.4842\n",
            "Epoch 31/50\n",
            "23/23 [==============================] - 0s 1ms/step - loss: 254.9398\n",
            "Epoch 32/50\n",
            "23/23 [==============================] - 0s 1ms/step - loss: 242.1828\n",
            "Epoch 33/50\n",
            "23/23 [==============================] - 0s 1ms/step - loss: 233.9276\n",
            "Epoch 34/50\n",
            "23/23 [==============================] - 0s 1ms/step - loss: 225.3160\n",
            "Epoch 35/50\n",
            "23/23 [==============================] - 0s 1ms/step - loss: 216.6001\n",
            "Epoch 36/50\n",
            "23/23 [==============================] - 0s 1ms/step - loss: 203.7605\n",
            "Epoch 37/50\n",
            "23/23 [==============================] - 0s 1ms/step - loss: 198.1767\n",
            "Epoch 38/50\n",
            "23/23 [==============================] - 0s 1ms/step - loss: 188.9657\n",
            "Epoch 39/50\n",
            "23/23 [==============================] - 0s 1ms/step - loss: 182.0712\n",
            "Epoch 40/50\n",
            "23/23 [==============================] - 0s 1ms/step - loss: 175.5898\n",
            "Epoch 41/50\n",
            "23/23 [==============================] - 0s 1ms/step - loss: 170.7133\n",
            "Epoch 42/50\n",
            "23/23 [==============================] - 0s 1ms/step - loss: 164.4372\n",
            "Epoch 43/50\n",
            "23/23 [==============================] - 0s 1ms/step - loss: 157.3727\n",
            "Epoch 44/50\n",
            "23/23 [==============================] - 0s 1ms/step - loss: 151.4801\n",
            "Epoch 45/50\n",
            "23/23 [==============================] - 0s 1ms/step - loss: 148.1503\n",
            "Epoch 46/50\n",
            "23/23 [==============================] - 0s 1ms/step - loss: 144.2246\n",
            "Epoch 47/50\n",
            "23/23 [==============================] - 0s 931us/step - loss: 139.5940\n",
            "Epoch 48/50\n",
            "23/23 [==============================] - 0s 1ms/step - loss: 136.5634\n",
            "Epoch 49/50\n",
            "23/23 [==============================] - 0s 1ms/step - loss: 134.3495\n",
            "Epoch 50/50\n",
            "23/23 [==============================] - 0s 944us/step - loss: 131.4839\n"
          ],
          "name": "stdout"
        },
        {
          "output_type": "execute_result",
          "data": {
            "text/plain": [
              "<tensorflow.python.keras.callbacks.History at 0x7fd8050122e8>"
            ]
          },
          "metadata": {
            "tags": []
          },
          "execution_count": 14
        }
      ]
    },
    {
      "cell_type": "code",
      "metadata": {
        "colab": {
          "base_uri": "https://localhost:8080/"
        },
        "id": "z5vHRsgjEC_f",
        "outputId": "7cebeae8-c4af-45b2-82e4-88a02180a552"
      },
      "source": [
        "loss = model.evaluate(X_test, y_test)\n",
        "loss"
      ],
      "execution_count": 18,
      "outputs": [
        {
          "output_type": "stream",
          "text": [
            "10/10 [==============================] - 0s 1ms/step - loss: 125.7281\n"
          ],
          "name": "stdout"
        },
        {
          "output_type": "execute_result",
          "data": {
            "text/plain": [
              "125.72811889648438"
            ]
          },
          "metadata": {
            "tags": []
          },
          "execution_count": 18
        }
      ]
    },
    {
      "cell_type": "code",
      "metadata": {
        "id": "tEg_cBGyEC_f"
      },
      "source": [
        "from sklearn.metrics import mean_squared_error"
      ],
      "execution_count": 16,
      "outputs": []
    },
    {
      "cell_type": "code",
      "metadata": {
        "id": "RQbK-QGfEC_f",
        "colab": {
          "base_uri": "https://localhost:8080/"
        },
        "outputId": "b9938f01-db18-445d-a5fa-502fe799cf04"
      },
      "source": [
        "y_pred = model.predict(X_test)\n",
        "mean_square_error = mean_squared_error(y_test, y_pred)\n",
        "mean = np.mean(mean_square_error)\n",
        "standard_deviation = np.std(mean_square_error)\n",
        "print(mean, standard_deviation)"
      ],
      "execution_count": 20,
      "outputs": [
        {
          "output_type": "stream",
          "text": [
            "125.72810757712335 0.0\n"
          ],
          "name": "stdout"
        }
      ]
    },
    {
      "cell_type": "code",
      "metadata": {
        "id": "CrrfgrOXEC_g",
        "colab": {
          "base_uri": "https://localhost:8080/"
        },
        "outputId": "ac388a4f-9764-41b2-bd3b-3291dc86d149"
      },
      "source": [
        "\n",
        "total_mean_squared_errors = 50\n",
        "epochs = 50\n",
        "mean_squared_errors = []\n",
        "for i in range(0, total_mean_squared_errors):\n",
        "    X_train, X_test, y_train, y_test = train_test_split(predictors, target, test_size=0.3, random_state=i)\n",
        "    model = get_model()\n",
        "    model.fit(X_train, y_train, epochs=epochs, verbose=0)\n",
        "    MSE = model.evaluate(X_test, y_test, verbose=0)\n",
        "    print(\"MSE \"+str(i+1)+\": \"+str(MSE))\n",
        "    y_pred = model.predict(X_test)\n",
        "    mean_square_error = mean_squared_error(y_test, y_pred)\n",
        "    mean_squared_errors.append(mean_square_error)\n",
        "\n",
        "mean_squared_errors = np.array(mean_squared_errors)\n",
        "mean = np.mean(mean_squared_errors)\n",
        "standard_deviation = np.std(mean_squared_errors)\n",
        "\n",
        "print('\\n')\n",
        "print(\"mean of 50 MSEs: \"+str(mean))\n",
        "print(\"standard deviation: \"+str(standard_deviation))"
      ],
      "execution_count": 23,
      "outputs": [
        {
          "output_type": "stream",
          "text": [
            "MSE 1: 99.5232162475586\n",
            "MSE 2: 706.931396484375\n",
            "MSE 3: 811.2157592773438\n",
            "MSE 4: 440.5697326660156\n",
            "MSE 5: 157.48556518554688\n",
            "MSE 6: 127.59642028808594\n",
            "MSE 7: 219.93411254882812\n",
            "MSE 8: 1476.843505859375\n",
            "MSE 9: 497.8842468261719\n",
            "MSE 10: 117.77574157714844\n",
            "MSE 11: 139.2783660888672\n",
            "MSE 12: 197.63998413085938\n",
            "MSE 13: 302.0442199707031\n",
            "MSE 14: 132.19863891601562\n",
            "MSE 15: 402.83612060546875\n",
            "MSE 16: 151.85528564453125\n",
            "MSE 17: 137.53555297851562\n",
            "MSE 18: 142.62149047851562\n",
            "MSE 19: 88.39824676513672\n",
            "MSE 20: 116.61601257324219\n",
            "MSE 21: 809.7568359375\n",
            "MSE 22: 95.08963012695312\n",
            "MSE 23: 174.31158447265625\n",
            "MSE 24: 1641.1865234375\n",
            "MSE 25: 110.97294616699219\n",
            "MSE 26: 191.4539794921875\n",
            "MSE 27: 110.63681030273438\n",
            "MSE 28: 315.5450134277344\n",
            "MSE 29: 125.2428970336914\n",
            "MSE 30: 862.1211547851562\n",
            "MSE 31: 183.3478546142578\n",
            "MSE 32: 1009.9473266601562\n",
            "MSE 33: 138.96347045898438\n",
            "MSE 34: 359.9432678222656\n",
            "MSE 35: 325.67291259765625\n",
            "MSE 36: 439.4527587890625\n",
            "MSE 37: 220.9916534423828\n",
            "MSE 38: 152.5056915283203\n",
            "MSE 39: 1783.5975341796875\n",
            "MSE 40: 137.2013397216797\n",
            "MSE 41: 172.80152893066406\n",
            "MSE 42: 122.40613555908203\n",
            "MSE 43: 112.76901245117188\n",
            "MSE 44: 386.7679443359375\n",
            "MSE 45: 134.86244201660156\n",
            "MSE 46: 219.5005340576172\n",
            "MSE 47: 366.8587646484375\n",
            "MSE 48: 247.03933715820312\n",
            "MSE 49: 258.57635498046875\n",
            "MSE 50: 819.503662109375\n",
            "\n",
            "\n",
            "mean of 50 MSEs: 369.9162138242933\n",
            "standard deviation: 393.8301457541539\n"
          ],
          "name": "stdout"
        }
      ]
    },
    {
      "cell_type": "code",
      "metadata": {
        "id": "u6fIZ7mDEC_g",
        "colab": {
          "base_uri": "https://localhost:8080/"
        },
        "outputId": "2bd58aba-7ffe-4ea0-ac5f-7adeb4615a64"
      },
      "source": [
        "mean_squared_errors = []\n",
        "for i in range(0, total_mean_squared_errors):\n",
        "    X_train, X_test, y_train, y_test = train_test_split(predictors, target, test_size=0.3, random_state=i)\n",
        "    model.fit(X_train, y_train, epochs=epochs, verbose=0)\n",
        "    MSE = model.evaluate(X_test, y_test, verbose=0)\n",
        "    #print(\"MSE \"+str(i+1)+\": \"+str(MSE))\n",
        "    y_pred = model.predict(X_test)\n",
        "    mean_square_error = mean_squared_error(y_test, y_pred)\n",
        "    mean_squared_errors.append(mean_square_error)\n",
        "\n",
        "mean_squared_errors = np.array(mean_squared_errors)\n",
        "mean = np.mean(mean_squared_errors)\n",
        "standard_deviation = np.std(mean_squared_errors)\n",
        "\n",
        "print('\\n')\n",
        "print('same, but without getting a new model each time - i.e. just continuing the previous training')\n",
        "print(\"mean of 50 MSEs: \"+str(mean))\n",
        "print(\"standard deviation: \"+str(standard_deviation))"
      ],
      "execution_count": 24,
      "outputs": [
        {
          "output_type": "stream",
          "text": [
            "\n",
            "\n",
            "same, but without getting a new model each time - i.e. just continuing the previous training\n",
            "mean of 50 MSEs: 58.31533184578054\n",
            "standard deviation: 25.942736075631224\n"
          ],
          "name": "stdout"
        }
      ]
    },
    {
      "cell_type": "code",
      "metadata": {
        "id": "Z7VlE_kjIVXP"
      },
      "source": [
        ""
      ],
      "execution_count": null,
      "outputs": []
    }
  ]
}